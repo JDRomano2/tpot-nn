{
 "cells": [
  {
   "cell_type": "code",
   "execution_count": 8,
   "metadata": {},
   "outputs": [],
   "source": [
    "from pmlb import fetch_data, classification_dataset_names, regression_dataset_names\n",
    "import os"
   ]
  },
  {
   "cell_type": "code",
   "execution_count": 12,
   "metadata": {},
   "outputs": [],
   "source": [
    "for dataset_name in classification_dataset_names:\n",
    "    local_cache_dir = 'pmlb-data'\n",
    "#     dataset_name = 'adult'\n",
    "    suffix = '.csv'\n",
    "    problem_type = 'classification'\n",
    "    dataset_path = os.path.join(local_cache_dir, problem_type, dataset_name) + suffix\n",
    "    data_i = fetch_data(dataset_name)\n",
    "    data_i.to_csv(dataset_path, index=False)"
   ]
  },
  {
   "cell_type": "code",
   "execution_count": null,
   "metadata": {},
   "outputs": [],
   "source": [
    "for dataset_name in regression_dataset_names:\n",
    "    local_cache_dir = 'pmlb-data'\n",
    "    suffix = '.csv'\n",
    "    problem_type = 'regression'\n",
    "    dataset_path = os.path.join(local_cache_dir, problem_type, dataset_name) + suffix\n",
    "    data_i = fetch_data(dataset_name)\n",
    "    data_i.to_csv(dataset_path, index=False)"
   ]
  },
  {
   "cell_type": "code",
   "execution_count": null,
   "metadata": {},
   "outputs": [],
   "source": []
  }
 ],
 "metadata": {
  "kernelspec": {
   "display_name": "Python 3",
   "language": "python",
   "name": "python3"
  },
  "language_info": {
   "codemirror_mode": {
    "name": "ipython",
    "version": 3
   },
   "file_extension": ".py",
   "mimetype": "text/x-python",
   "name": "python",
   "nbconvert_exporter": "python",
   "pygments_lexer": "ipython3",
   "version": "3.6.7"
  }
 },
 "nbformat": 4,
 "nbformat_minor": 2
}
