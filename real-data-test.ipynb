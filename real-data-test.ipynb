{
 "cells": [
  {
   "cell_type": "code",
   "execution_count": 1,
   "metadata": {},
   "outputs": [],
   "source": [
    "import numpy as np\n",
    "import pandas as pd\n",
    "from tpot import TPOTRegressor\n",
    "import importlib\n",
    "from utils import *"
   ]
  },
  {
   "cell_type": "code",
   "execution_count": 2,
   "metadata": {},
   "outputs": [],
   "source": [
    "data_dir = 'qsar/'\n",
    "label = 'Act'\n",
    "random_state = 1618\n",
    "my_datasets = pd.read_csv('qsar_datasets.txt', header = None)[0].values.tolist()"
   ]
  },
  {
   "cell_type": "code",
   "execution_count": 3,
   "metadata": {},
   "outputs": [],
   "source": [
    "def get_predictions(dat_name, random_state):\n",
    "    file_name = dat_name + '_'  + str(random_state)\n",
    "    # Read in the data:\n",
    "    train_data = pd.read_csv(data_dir + dat_name + '_training_preprocessed.csv', index_col = 'MOLECULE')\n",
    "    test_data = pd.read_csv(data_dir + dat_name + '_test_preprocessed.csv', index_col = 'MOLECULE')\n",
    "    testing_features = test_data.drop([label], axis=1)\n",
    "    training_features = train_data.drop([label], axis=1)\n",
    "    training_target = train_data[label]\n",
    "    testing_target = test_data[label]\n",
    "\n",
    "    # Run the TPOT recommended pipeline\n",
    "    pipe_file = 'pipelines.' + dat_name + '_' + str(random_state)\n",
    "    \n",
    "    pipe = importlib.import_module(pipe_file, package=None)\n",
    "\n",
    "    tpot_results = pipe.opt_pipe(training_features, testing_features)\n",
    "    exported_pipeline = tpot_results['pipe']\n",
    "    training_features = tpot_results['train_feat'] # in case imputation was done\n",
    "    testing_features = tpot_results['test_feat'] # in case imputation was done\n",
    "\n",
    "    tpot_obj= TPOTRegressor()\n",
    "    \n",
    "    # Set random_state:\n",
    "    if hasattr(exported_pipeline, 'steps'): # if it is a pipeline\n",
    "        tpot_obj._set_param_recursive(exported_pipeline.steps, 'random_state', random_state)\n",
    "    elif hasattr(exported_pipeline, 'random_state'): # if this is a classifier\n",
    "        exported_pipeline.set_params(**random_state)\n",
    "\n",
    "    # Fit the exported pipeline to the training:\n",
    "    model = exported_pipeline.fit(training_features, training_target)\n",
    "    \n",
    "    # Get predictions:\n",
    "    pred = exported_pipeline.predict(testing_features)\n",
    "    predictions = pd.DataFrame({'MOLECULE': list(test_data.index), 'Act_pred': pred, 'Act': testing_target})\n",
    "    predictions.to_csv('predictions/' + file_name + '_test.csv')\n",
    "    \n",
    "    return({'Dataset': dat_name, 'Testing R^2': np.corrcoef(pred, testing_target)[0,1]})\n"
   ]
  },
  {
   "cell_type": "code",
   "execution_count": 4,
   "metadata": {},
   "outputs": [
    {
     "name": "stderr",
     "output_type": "stream",
     "text": [
      "/Users/ttle/anaconda3/envs/tpotDataSel/lib/python3.6/site-packages/sklearn/feature_selection/univariate_selection.py:115: RuntimeWarning: divide by zero encountered in true_divide\n",
      "  f = msb / msw\n"
     ]
    }
   ],
   "source": [
    "my_datasets = ['METAB', 'HIVINT']\n",
    "mtypes = {'datasets': my_datasets,\n",
    "          'seed': [random_state]}\n",
    "mtype_grid = expand_grid(mtypes) # data type grid\n",
    "\n",
    "results = mtype_grid.apply(\n",
    "    lambda r: get_predictions(r.datasets, r.seed), \n",
    "    axis = 1, result_type = 'expand')\n"
   ]
  },
  {
   "cell_type": "code",
   "execution_count": 5,
   "metadata": {},
   "outputs": [
    {
     "data": {
      "text/html": [
       "<div>\n",
       "<style scoped>\n",
       "    .dataframe tbody tr th:only-of-type {\n",
       "        vertical-align: middle;\n",
       "    }\n",
       "\n",
       "    .dataframe tbody tr th {\n",
       "        vertical-align: top;\n",
       "    }\n",
       "\n",
       "    .dataframe thead th {\n",
       "        text-align: right;\n",
       "    }\n",
       "</style>\n",
       "<table border=\"1\" class=\"dataframe\">\n",
       "  <thead>\n",
       "    <tr style=\"text-align: right;\">\n",
       "      <th></th>\n",
       "      <th>Dataset</th>\n",
       "      <th>Testing R^2</th>\n",
       "    </tr>\n",
       "  </thead>\n",
       "  <tbody>\n",
       "    <tr>\n",
       "      <th>0</th>\n",
       "      <td>METAB</td>\n",
       "      <td>0.696450</td>\n",
       "    </tr>\n",
       "    <tr>\n",
       "      <th>1</th>\n",
       "      <td>HIVINT</td>\n",
       "      <td>0.457931</td>\n",
       "    </tr>\n",
       "  </tbody>\n",
       "</table>\n",
       "</div>"
      ],
      "text/plain": [
       "  Dataset  Testing R^2\n",
       "0   METAB     0.696450\n",
       "1  HIVINT     0.457931"
      ]
     },
     "execution_count": 5,
     "metadata": {},
     "output_type": "execute_result"
    }
   ],
   "source": [
    "results"
   ]
  },
  {
   "cell_type": "code",
   "execution_count": 9,
   "metadata": {},
   "outputs": [],
   "source": [
    "# final_results = pd.concat([mtype_grid, results], axis = 1)\n",
    "results.to_csv('MLP_results/' + str(random_state) + \".csv\")"
   ]
  },
  {
   "cell_type": "code",
   "execution_count": 30,
   "metadata": {},
   "outputs": [],
   "source": []
  },
  {
   "cell_type": "code",
   "execution_count": null,
   "metadata": {},
   "outputs": [],
   "source": []
  }
 ],
 "metadata": {
  "kernelspec": {
   "display_name": "Python 3",
   "language": "python",
   "name": "python3"
  },
  "language_info": {
   "codemirror_mode": {
    "name": "ipython",
    "version": 3
   },
   "file_extension": ".py",
   "mimetype": "text/x-python",
   "name": "python",
   "nbconvert_exporter": "python",
   "pygments_lexer": "ipython3",
   "version": "3.6.7"
  }
 },
 "nbformat": 4,
 "nbformat_minor": 2
}
