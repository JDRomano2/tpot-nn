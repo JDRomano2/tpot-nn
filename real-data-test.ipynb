{
 "cells": [
  {
   "cell_type": "code",
   "execution_count": 1,
   "metadata": {},
   "outputs": [],
   "source": [
    "import numpy as np\n",
    "import pandas as pd\n",
    "from tpot import TPOTRegressor\n",
    "import importlib"
   ]
  },
  {
   "cell_type": "code",
   "execution_count": 2,
   "metadata": {},
   "outputs": [],
   "source": [
    "# Read in the data, paste in the exported pipeline (under directory `tpot_results`):\n",
    "# train_data = pd.read_csv('processed_data/train_' + split + '_' + imp + '_' + day + '_1h.csv')\n",
    "train_dat_name = 'METAB_training_preprocessed'\n",
    "test_dat_name = 'METAB_test_preprocessed'\n",
    "data_dir = 'qsar/'\n",
    "label = 'Act'\n",
    "random_state = 1618\n",
    "train_data = pd.read_csv(data_dir + train_dat_name + '.csv', index_col = 'MOLECULE')\n",
    "test_data = pd.read_csv(data_dir + test_dat_name + '.csv', index_col = 'MOLECULE')\n",
    "\n",
    "testing_features = test_data.drop([label], axis=1)\n",
    "training_features = train_data.drop([label], axis=1)\n",
    "training_target = train_data[label]\n",
    "testing_target = test_data[label]\n",
    "\n",
    "# Run the TPOT recommended pipeline\n",
    "pipe_file = 'pipelines.' + train_dat_name + '_' + str(random_state)"
   ]
  },
  {
   "cell_type": "code",
   "execution_count": 3,
   "metadata": {},
   "outputs": [
    {
     "name": "stderr",
     "output_type": "stream",
     "text": [
      "/Users/ttle/anaconda3/envs/tpotDataSel/lib/python3.6/site-packages/sklearn/feature_selection/univariate_selection.py:115: RuntimeWarning: divide by zero encountered in true_divide\n",
      "  f = msb / msw\n"
     ]
    }
   ],
   "source": [
    "pipe = importlib.import_module(pipe_file, package=None)\n",
    "\n",
    "tpot_results = pipe.opt_pipe(training_features, testing_features)\n",
    "exported_pipeline = tpot_results['pipe']\n",
    "training_features = tpot_results['train_feat']\n",
    "testing_features = tpot_results['test_feat']\n",
    "\n",
    "tpot_obj= TPOTRegressor()\n",
    "\n",
    "if hasattr(exported_pipeline, 'steps'): # if it is a pipeline\n",
    "    tpot_obj._set_param_recursive(exported_pipeline.steps, 'random_state', random_state)\n",
    "elif hasattr(exported_pipeline, 'random_state'): # if this is a classifier\n",
    "    exported_pipeline.set_params(**random_state)\n",
    "\n",
    "# Fit the exported pipeline to the training:\n",
    "model = exported_pipeline.fit(training_features, training_target)"
   ]
  },
  {
   "cell_type": "code",
   "execution_count": 4,
   "metadata": {},
   "outputs": [],
   "source": [
    "pred = exported_pipeline.predict(testing_features)"
   ]
  },
  {
   "cell_type": "code",
   "execution_count": 5,
   "metadata": {},
   "outputs": [
    {
     "data": {
      "text/plain": [
       "0.796967223019781"
      ]
     },
     "execution_count": 5,
     "metadata": {},
     "output_type": "execute_result"
    }
   ],
   "source": [
    "np.corrcoef(pred, testing_target)[0, 1]"
   ]
  }
 ],
 "metadata": {
  "kernelspec": {
   "display_name": "Python 3",
   "language": "python",
   "name": "python3"
  },
  "language_info": {
   "codemirror_mode": {
    "name": "ipython",
    "version": 3
   },
   "file_extension": ".py",
   "mimetype": "text/x-python",
   "name": "python",
   "nbconvert_exporter": "python",
   "pygments_lexer": "ipython3",
   "version": "3.6.7"
  }
 },
 "nbformat": 4,
 "nbformat_minor": 2
}
