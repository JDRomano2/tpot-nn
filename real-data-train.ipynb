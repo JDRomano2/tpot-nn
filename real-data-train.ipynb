{
 "cells": [
  {
   "cell_type": "code",
   "execution_count": 1,
   "metadata": {},
   "outputs": [],
   "source": [
    "from tpot import TPOTRegressor\n",
    "from tpot.export_utils import generate_import_code, generate_export_pipeline_code\n",
    "from tpot.export_utils import export_pipeline, expr_to_tree\n",
    "from sklearn.model_selection import train_test_split, cross_val_score\n",
    "# from tpot.config.classifier_nn import classifier_config_nn\n",
    "from sklearn.pipeline import make_pipeline\n",
    "from tpot.config import classifier_config_dict_light\n",
    "from sklearn.neighbors import KNeighborsClassifier\n",
    "from sklearn.datasets import load_digits\n",
    "from sklearn.model_selection import TimeSeriesSplit\n",
    "import pandas as pd\n",
    "import numpy as np\n",
    "import os\n",
    "import glob\n",
    "from ipywidgets import IntProgress"
   ]
  },
  {
   "cell_type": "code",
   "execution_count": 2,
   "metadata": {},
   "outputs": [],
   "source": [
    "# set global variables\n",
    "n_gen = 100\n",
    "n_pop = 100\n",
    "make_func = 'def opt_pipe(training_features, testing_features):\\n'\n",
    "import_impute = 'from sklearn.impute import SimpleImputer\\n\\n'\n",
    "impute_text = '\\timputer = SimpleImputer(strategy=\"median\")\\n\\timputer.fit(training_features)\\n\\t\\\n",
    "training_features = imputer.transform(training_features)\\n\\t\\\n",
    "testing_features = imputer.transform(testing_features)\\n'\n",
    "\n",
    "def write_pipes(name, tpot):\n",
    "    \"\"\"Write TPOT pipelines out to subdirectories.\"\"\"\n",
    "    import_codes = generate_import_code(tpot._optimized_pipeline, tpot.operators)\n",
    "    pipeline_codes = generate_export_pipeline_code(expr_to_tree(tpot._optimized_pipeline,tpot._pset), tpot.operators)\n",
    "    pipe_text = import_codes.replace('import numpy as np\\nimport pandas as pd\\n', 'from sklearn.preprocessing import FunctionTransformer\\nfrom copy import copy\\n')\n",
    "    if tpot._imputed: # add impute code when there is missing data\n",
    "        pipe_text += import_impute + make_func + impute_text\n",
    "    else:\n",
    "        pipe_text += make_func\n",
    "    pipe_text += '\\n\\texported_pipeline = ' + pipeline_codes + \"\\n\\treturn({'train_feat': training_features, 'test_feat': testing_features, 'pipe': exported_pipeline})\"\n",
    "    f = open(name + '.py', 'w')\n",
    "    f.write(pipe_text)\n",
    "    f.close()"
   ]
  },
  {
   "cell_type": "code",
   "execution_count": 3,
   "metadata": {},
   "outputs": [],
   "source": [
    "personal_config = classifier_config_dict_light\n",
    "\n",
    "personal_config['sklearn.neural_network.MLPRegressor'] = {\n",
    "    # MLPClassifier for neural networks\n",
    "    # TODO: revisit/tweak: alpha, momentum, learning rate_init\n",
    "    # separater paras based on activation\n",
    "    'hidden_layer_sizes': [4],\n",
    "    'activation': ['logistic', 'tanh', 'relu'],\n",
    "    'solver': ['lbfgs', 'sgd', 'adam'],\n",
    "    'learning_rate': ['constant', 'invscaling', 'adaptive'],\n",
    "    'alpha': [1e-3, 1e-2, 1e-1, 1., 10., 100.],\n",
    "    'learning_rate_init': [1e-3, 1e-2, 1e-1, 0.5, 0.75, 0.9],\n",
    "    'momentum': [0.1, 0.5, 0.75, 0.9]\n",
    "}\n"
   ]
  },
  {
   "cell_type": "code",
   "execution_count": 4,
   "metadata": {
    "scrolled": true
   },
   "outputs": [],
   "source": [
    "scoring_function = 'r2'\n",
    "random_state = 1618\n",
    "path = ''\n",
    "extension = 'csv'\n",
    "data_dir = 'qsar/'\n",
    "label = 'Act'\n",
    "# os.chdir(path + data_dir)\n",
    "# data_sets = [i.replace(\".csv\", \"\") for i in glob.glob('*.{}'.format(extension))]\n",
    "# print(data_sets[0:10])\n",
    "# os.chdir('..')\n"
   ]
  },
  {
   "cell_type": "code",
   "execution_count": 5,
   "metadata": {},
   "outputs": [],
   "source": [
    "dat_name = 'METAB_training_preprocessed'"
   ]
  },
  {
   "cell_type": "code",
   "execution_count": 6,
   "metadata": {},
   "outputs": [],
   "source": [
    "# for dat_name in data_sets:\n",
    "dat_name = 'METAB_training_preprocessed'\n",
    "accuracy_ls = []\n",
    "tpot_data = pd.read_csv(data_dir + dat_name + '.csv', index_col = 'MOLECULE')\n",
    "Xdata = tpot_data.loc[:, tpot_data.columns != label]\n",
    "Ydata = tpot_data[label]\n",
    "X_train, X_test, y_train, y_test = train_test_split(Xdata, Ydata,\n",
    "                                                    train_size=0.75, test_size=0.25)\n",
    "\n",
    "tpot = TPOTRegressor(generations = n_gen, \n",
    "                     population_size = n_pop, \n",
    "                     verbosity = 2,\n",
    "                     config_dict = personal_config,\n",
    "                     scoring = scoring_function,\n",
    "                     random_state = random_state,\n",
    "                     cv = TimeSeriesSplit(n_splits=5),\n",
    "                     template = 'Selector-Transformer-MLPRegressor')"
   ]
  },
  {
   "cell_type": "code",
   "execution_count": 7,
   "metadata": {},
   "outputs": [
    {
     "data": {
      "application/vnd.jupyter.widget-view+json": {
       "model_id": "",
       "version_major": 2,
       "version_minor": 0
      },
      "text/plain": [
       "HBox(children=(IntProgress(value=0, description='Optimization Progress', max=10100), HTML(value='')))"
      ]
     },
     "metadata": {},
     "output_type": "display_data"
    },
    {
     "name": "stdout",
     "output_type": "stream",
     "text": [
      "Generation 1 - Current best internal CV score: 0.5317005880583912\n",
      "Generation 2 - Current best internal CV score: 0.5317005880583912\n",
      "Generation 3 - Current best internal CV score: 0.5396567340418444\n",
      "Generation 4 - Current best internal CV score: 0.5396567340418444\n",
      "Generation 5 - Current best internal CV score: 0.5547953217564304\n",
      "Generation 6 - Current best internal CV score: 0.5607768309159804\n",
      "Generation 7 - Current best internal CV score: 0.5607768309159804\n",
      "Generation 8 - Current best internal CV score: 0.5633701922593184\n",
      "Generation 9 - Current best internal CV score: 0.571365683923249\n",
      "Generation 10 - Current best internal CV score: 0.5725664255969718\n",
      "Generation 11 - Current best internal CV score: 0.5734255565537448\n",
      "Generation 12 - Current best internal CV score: 0.5734255565537448\n",
      "Generation 13 - Current best internal CV score: 0.5734255565537448\n",
      "Generation 14 - Current best internal CV score: 0.5734255565537448\n",
      "Generation 15 - Current best internal CV score: 0.5734255565537448\n",
      "Generation 16 - Current best internal CV score: 0.5758624682187394\n",
      "Generation 17 - Current best internal CV score: 0.5758624682187394\n",
      "Generation 18 - Current best internal CV score: 0.5758624682187394\n",
      "Generation 19 - Current best internal CV score: 0.5758624682187394\n",
      "Generation 20 - Current best internal CV score: 0.5759936499708823\n",
      "Generation 21 - Current best internal CV score: 0.5759936499708823\n",
      "Generation 22 - Current best internal CV score: 0.5759936499708823\n",
      "Generation 23 - Current best internal CV score: 0.576211164597108\n",
      "Generation 24 - Current best internal CV score: 0.576211164597108\n",
      "Generation 25 - Current best internal CV score: 0.576211164597108\n",
      "Generation 26 - Current best internal CV score: 0.5762738260741431\n",
      "Generation 27 - Current best internal CV score: 0.5762738260741431\n",
      "Generation 28 - Current best internal CV score: 0.5762738260741431\n",
      "Generation 29 - Current best internal CV score: 0.5762738260741431\n",
      "Generation 30 - Current best internal CV score: 0.5768419485000444\n",
      "Generation 31 - Current best internal CV score: 0.5768419485000444\n",
      "Generation 32 - Current best internal CV score: 0.5768419485000444\n",
      "Generation 33 - Current best internal CV score: 0.5768419485000444\n",
      "Generation 34 - Current best internal CV score: 0.5768419485000444\n",
      "Generation 35 - Current best internal CV score: 0.5768419485000444\n",
      "Generation 36 - Current best internal CV score: 0.5768419485000444\n",
      "Generation 37 - Current best internal CV score: 0.5768419485000444\n",
      "Generation 38 - Current best internal CV score: 0.5768419485000444\n",
      "Generation 39 - Current best internal CV score: 0.5768419485000444\n",
      "Generation 40 - Current best internal CV score: 0.5768419485000444\n",
      "Generation 41 - Current best internal CV score: 0.5768608482141282\n",
      "Generation 42 - Current best internal CV score: 0.5769794139193835\n",
      "Generation 43 - Current best internal CV score: 0.5769794139193835\n",
      "Generation 44 - Current best internal CV score: 0.5769794139193835\n",
      "Generation 45 - Current best internal CV score: 0.5769794139193835\n",
      "Generation 46 - Current best internal CV score: 0.5769794139193835\n",
      "Generation 47 - Current best internal CV score: 0.5769794139193835\n",
      "Generation 48 - Current best internal CV score: 0.5769794139193835\n",
      "Generation 49 - Current best internal CV score: 0.5769794139193835\n",
      "Generation 50 - Current best internal CV score: 0.5769794139193835\n",
      "Generation 51 - Current best internal CV score: 0.5769794139193835\n",
      "Generation 52 - Current best internal CV score: 0.5769794139193835\n",
      "Generation 53 - Current best internal CV score: 0.5769794139193835\n",
      "Generation 54 - Current best internal CV score: 0.5769794139193835\n",
      "Generation 55 - Current best internal CV score: 0.5769794139193835\n",
      "Generation 56 - Current best internal CV score: 0.5769794139193835\n",
      "Generation 57 - Current best internal CV score: 0.5769794139193835\n",
      "Generation 58 - Current best internal CV score: 0.5769794139193835\n",
      "Generation 59 - Current best internal CV score: 0.5769794139193835\n",
      "Generation 60 - Current best internal CV score: 0.5769794139193835\n",
      "Generation 61 - Current best internal CV score: 0.5769794139193835\n",
      "Generation 62 - Current best internal CV score: 0.5769794139193835\n",
      "Generation 63 - Current best internal CV score: 0.5769794139193835\n",
      "Generation 64 - Current best internal CV score: 0.5769794139193835\n",
      "Generation 65 - Current best internal CV score: 0.5769794139193835\n",
      "Generation 66 - Current best internal CV score: 0.5769794139193835\n",
      "Generation 67 - Current best internal CV score: 0.5769794139193835\n",
      "Generation 68 - Current best internal CV score: 0.5769794139193835\n",
      "Generation 69 - Current best internal CV score: 0.5769794139193835\n",
      "Generation 70 - Current best internal CV score: 0.5769794139193835\n",
      "Generation 71 - Current best internal CV score: 0.5769794139193835\n",
      "Generation 72 - Current best internal CV score: 0.5769794139193835\n",
      "Generation 73 - Current best internal CV score: 0.5769794139193835\n",
      "Generation 74 - Current best internal CV score: 0.5769794139193835\n",
      "Generation 75 - Current best internal CV score: 0.5769794139193835\n",
      "Generation 76 - Current best internal CV score: 0.5769794139193835\n",
      "Generation 77 - Current best internal CV score: 0.5769794139193835\n",
      "Generation 78 - Current best internal CV score: 0.5769794139193835\n",
      "Generation 79 - Current best internal CV score: 0.5769794139193835\n",
      "Generation 80 - Current best internal CV score: 0.5769794139193835\n",
      "Generation 81 - Current best internal CV score: 0.5769794139193835\n",
      "Generation 82 - Current best internal CV score: 0.5769794139193835\n",
      "Generation 83 - Current best internal CV score: 0.5769794139193835\n",
      "Generation 84 - Current best internal CV score: 0.5769794139193835\n",
      "Generation 85 - Current best internal CV score: 0.5769794139193835\n",
      "Generation 86 - Current best internal CV score: 0.5769794139193835\n",
      "Generation 87 - Current best internal CV score: 0.5769794139193835\n",
      "Generation 88 - Current best internal CV score: 0.5769794139193835\n",
      "Generation 89 - Current best internal CV score: 0.5769794139193835\n",
      "Generation 90 - Current best internal CV score: 0.5769794139193835\n",
      "Generation 91 - Current best internal CV score: 0.5769794139193835\n",
      "Generation 92 - Current best internal CV score: 0.5769794139193835\n",
      "Generation 93 - Current best internal CV score: 0.5769794139193835\n",
      "Generation 94 - Current best internal CV score: 0.5769794139193835\n",
      "Generation 95 - Current best internal CV score: 0.5769794139193835\n",
      "Generation 96 - Current best internal CV score: 0.5769794139193835\n",
      "Generation 97 - Current best internal CV score: 0.5769794139193835\n",
      "Generation 98 - Current best internal CV score: 0.5769794139193835\n",
      "Generation 99 - Current best internal CV score: 0.5769794139193835\n",
      "Generation 100 - Current best internal CV score: 0.5769794139193835\n",
      "\n",
      "Best pipeline: MLPRegressor(PCA(SelectPercentile(input_matrix, percentile=81), iterated_power=3, svd_solver=randomized), activation=logistic, alpha=100.0, hidden_layer_sizes=4, learning_rate=invscaling, learning_rate_init=0.001, momentum=0.75, solver=lbfgs)\n"
     ]
    },
    {
     "data": {
      "text/plain": [
       "TPOTRegressor(config_dict={'sklearn.naive_bayes.GaussianNB': {}, 'sklearn.naive_bayes.BernoulliNB': {'alpha': [0.001, 0.01, 0.1, 1.0, 10.0, 100.0], 'fit_prior': [True, False]}, 'sklearn.naive_bayes.MultinomialNB': {'alpha': [0.001, 0.01, 0.1, 1.0, 10.0, 100.0], 'fit_prior': [True, False]}, 'sklearn.tree.DecisionT...00.0], 'learning_rate_init': [0.001, 0.01, 0.1, 0.5, 0.75, 0.9], 'momentum': [0.1, 0.5, 0.75, 0.9]}},\n",
       "       crossover_rate=0.1,\n",
       "       cv=TimeSeriesSplit(max_train_size=None, n_splits=5),\n",
       "       disable_update_check=False, early_stop=None, generations=100,\n",
       "       max_eval_time_mins=5, max_time_mins=None, memory=None,\n",
       "       mutation_rate=0.9, n_jobs=1, offspring_size=None,\n",
       "       periodic_checkpoint_folder=None, population_size=100,\n",
       "       random_state=1618, scoring='r2', subsample=1.0,\n",
       "       template='Selector-Transformer-MLPRegressor', use_dask=False,\n",
       "       verbosity=2, warm_start=False)"
      ]
     },
     "execution_count": 7,
     "metadata": {},
     "output_type": "execute_result"
    }
   ],
   "source": [
    "tpot.fit(X_train, y_train)"
   ]
  },
  {
   "cell_type": "code",
   "execution_count": 8,
   "metadata": {},
   "outputs": [],
   "source": [
    "accuracy_ls.append([tpot._optimized_pipeline_score, tpot.score(X_test, y_test)])\n",
    "# tpot.export('pipelines/' + dat_name + '_' + str(random_state) + '.py')\n",
    "write_pipes('pipelines/' + dat_name + '_' + str(random_state), tpot)\n",
    "\n",
    "accuracy_mat = pd.DataFrame(accuracy_ls, columns = ['Training CV Accuracy', 'Testing Accuracy'])\n",
    "accuracy_mat.to_csv(\"accuracies/\" + dat_name + '_' + str(random_state) + \".csv\", sep = \"\\t\")"
   ]
  },
  {
   "cell_type": "code",
   "execution_count": null,
   "metadata": {},
   "outputs": [],
   "source": []
  }
 ],
 "metadata": {
  "kernelspec": {
   "display_name": "Python 3",
   "language": "python",
   "name": "python3"
  },
  "language_info": {
   "codemirror_mode": {
    "name": "ipython",
    "version": 3
   },
   "file_extension": ".py",
   "mimetype": "text/x-python",
   "name": "python",
   "nbconvert_exporter": "python",
   "pygments_lexer": "ipython3",
   "version": "3.6.7"
  }
 },
 "nbformat": 4,
 "nbformat_minor": 2
}
