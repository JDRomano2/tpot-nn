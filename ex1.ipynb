{
 "cells": [
  {
   "cell_type": "code",
   "execution_count": null,
   "metadata": {},
   "outputs": [],
   "source": [
    "from tpot import TPOTClassifier\n",
    "from sklearn.model_selection import train_test_split, cross_val_score\n",
    "# from tpot.config.classifier_nn import classifier_config_nn\n",
    "from sklearn.pipeline import make_pipeline\n",
    "from tpot.config import classifier_config_dict_light\n",
    "from sklearn.neighbors import KNeighborsClassifier\n",
    "from sklearn.datasets import load_digits\n",
    "import pandas as pd\n",
    "import numpy as np\n",
    "import os\n",
    "import glob\n",
    "from ipywidgets import IntProgress"
   ]
  },
  {
   "cell_type": "code",
   "execution_count": null,
   "metadata": {},
   "outputs": [],
   "source": [
    "personal_config = classifier_config_dict_light\n",
    "\n",
    "personal_config['sklearn.neural_network.MLPClassifier'] = {\n",
    "    # MLPClassifier for neural networks\n",
    "    # TODO: revisit/tweak: alpha, momentum, learning rate_init\n",
    "    # separater paras based on activation\n",
    "    'activation': ['logistic', 'tanh', 'relu'],\n",
    "    'solver': ['lbfgs', 'sgd', 'adam'],\n",
    "    'learning_rate': ['constant', 'invscaling', 'adaptive'],\n",
    "    'alpha': [1e-3, 1e-2, 1e-1, 1., 10., 100.],\n",
    "    'learning_rate_init': [1e-3, 1e-2, 1e-1, 0.5, 0.75, 0.9],\n",
    "    'momentum': [0.1, 0.5, 0.75, 0.9]\n",
    "}\n"
   ]
  },
  {
   "cell_type": "code",
   "execution_count": null,
   "metadata": {
    "scrolled": true
   },
   "outputs": [],
   "source": [
    "path = ''\n",
    "extension = 'csv'\n",
    "os.chdir(path + \"datasets/\")\n",
    "data_sets = [i.replace(\".csv\", \"\") for i in glob.glob('*.{}'.format(extension))]\n",
    "print(data_sets[0:10])\n",
    "os.chdir('..')"
   ]
  },
  {
   "cell_type": "code",
   "execution_count": null,
   "metadata": {},
   "outputs": [],
   "source": [
    "for dat_name in data_sets:\n",
    "    accuracy_ls = []\n",
    "    tpot_data = pd.read_csv('datasets/' + dat_name + '.csv')\n",
    "    Xdata = tpot_data.loc[:, tpot_data.columns != 'Class']\n",
    "    Ydata = tpot_data['Class']\n",
    "    X_train, X_test, y_train, y_test = train_test_split(Xdata, Ydata,\n",
    "                                                        train_size=0.75, test_size=0.25)\n",
    "\n",
    "    tpot = TPOTClassifier(generations=10, config_dict=personal_config,\n",
    "                          population_size=10, verbosity=2,\n",
    "                          template = 'Transformer-MLPClassifier')\n",
    "    for i in range(10):\n",
    "        tpot.fit(X_train, y_train)\n",
    "        accuracy_ls.append([tpot._optimized_pipeline_score, tpot.score(X_test, y_test)])\n",
    "        tpot.export('pipelines/' + dat_name + '_' + str(i) + '.py')\n",
    "\n",
    "    accuracy_mat = pd.DataFrame(accuracy_ls, columns = ['Training CV Accuracy', 'Testing Accuracy'])\n",
    "    accuracy_mat.to_csv(\"accuracies/\" + dat_name + \".tsv\", sep = \"\\t\")\n",
    "\n",
    "\n"
   ]
  },
  {
   "cell_type": "code",
   "execution_count": null,
   "metadata": {},
   "outputs": [],
   "source": [
    "# tpot_data = pd.read_csv(\n",
    "#     'datasets/AAA_bench_mod_4_up_down_dt_svm_score_0.5538_60.txt', sep=\"\\t\")\n",
    "# tpot_data = pd.read_csv(\n",
    "#     'datasets/with_null_AAA_bench_mod_4_up_down_dt_gb_score_0.35173_75.csv')\n",
    "# Xdata = tpot_data.loc[:, tpot_data.columns != 'Class']\n",
    "# Xdata = Xdata.drop(['Fitness', 'Distribution'], axis=1)\n",
    "# Ydata = tpot_data['Class']\n",
    "\n",
    "# X_train, X_test, y_train, y_test = train_test_split(Xdata, Ydata,\n",
    "#                                                     train_size=0.75, test_size=0.25)\n",
    "\n"
   ]
  },
  {
   "cell_type": "code",
   "execution_count": null,
   "metadata": {},
   "outputs": [],
   "source": [
    "# tpot = TPOTClassifier(generations=10, config_dict=personal_config,\n",
    "#                       population_size=10, verbosity=2,\n",
    "#                       template='Selector-Transformer-MLPClassifier')\n",
    "# tpot.fit(X_train, y_train)\n",
    "# print(tpot.score(X_test, y_test))\n",
    "\n",
    "# tpot.export('tpot_light_dt_gb_pipeline.py')"
   ]
  }
 ],
 "metadata": {
  "kernelspec": {
   "display_name": "Python 3",
   "language": "python",
   "name": "python3"
  },
  "language_info": {
   "codemirror_mode": {
    "name": "ipython",
    "version": 3
   },
   "file_extension": ".py",
   "mimetype": "text/x-python",
   "name": "python",
   "nbconvert_exporter": "python",
   "pygments_lexer": "ipython3",
   "version": "3.7.1"
  }
 },
 "nbformat": 4,
 "nbformat_minor": 2
}
